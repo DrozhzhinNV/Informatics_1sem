{
 "cells": [
  {
   "cell_type": "code",
   "execution_count": 23,
   "id": "e7ec436c-a37a-4a38-b774-65815abfa61c",
   "metadata": {},
   "outputs": [
    {
     "name": "stdin",
     "output_type": "stream",
     "text": [
      " student_10221student_00246student_90789\n"
     ]
    },
    {
     "name": "stdout",
     "output_type": "stream",
     "text": [
      "907\n"
     ]
    }
   ],
   "source": [
    "#Task 1\n",
    "#Задача решена в предположении, что кол-во баллов у студента может быть не только 2-значным\n",
    "\n",
    "b = list(input().split('student_'))\n",
    "b.pop(0)\n",
    "reg = {}  #Словарь, в котором мы будем хранить пары значений \"номер студента : баллы студента\"\n",
    "max_balls = []  #Список, в котором мы будем хранить номера студентов с наибольшими баллами\n",
    "\n",
    "for i in range(len(b)):\n",
    "    reg[b[i][:3]] = b[i][3:]\n",
    "\n",
    "for j in list(reg.keys()):\n",
    "    if reg[j] == reg[max(reg, key = reg.get)]:\n",
    "        max_balls.append(j)\n",
    "print('-'.join(max_balls))"
   ]
  },
  {
   "cell_type": "code",
   "execution_count": 13,
   "id": "4eb9e1e0-9b73-4e5e-9661-ff0ddd4aa983",
   "metadata": {},
   "outputs": [
    {
     "name": "stdin",
     "output_type": "stream",
     "text": [
      " 3 4\n"
     ]
    },
    {
     "name": "stdout",
     "output_type": "stream",
     "text": [
      "Длина окружности равно 18.85. Площадь круга составляет 176.71% от площади квадрата\n"
     ]
    }
   ],
   "source": [
    "#Task 2\n",
    "\n",
    "a = list(map(int, input().split()))\n",
    "print('Длина окружности равно ' + str(round(2 * 3.1415 * a[0], 2)) + '. Площадь круга составляет ' + str(round((3.1415 * a[0] ** 2) / (a[1] ** 2) * 100, 2)) + '% от площади квадрата')\n",
    "#с помощью round окургляем до 2-х знаков после запятой"
   ]
  },
  {
   "cell_type": "code",
   "execution_count": 11,
   "id": "5b45bd1f-b488-45b5-8b2b-468cb6270c03",
   "metadata": {},
   "outputs": [
    {
     "name": "stdin",
     "output_type": "stream",
     "text": [
      " 1243 12341\n"
     ]
    },
    {
     "name": "stdout",
     "output_type": "stream",
     "text": [
      "2143-21341\n"
     ]
    }
   ],
   "source": [
    "#Task 3\n",
    "\n",
    "a = input().split()\n",
    "a0 = list(a[0])\n",
    "a1 = list(a[1])\n",
    "a0[0], a0[1] = a0[1], a0[0]\n",
    "a1[0], a1[1] = a1[1], a1[0]\n",
    "print(''.join(a0) + '-' + ''.join(a1))"
   ]
  },
  {
   "cell_type": "code",
   "execution_count": 21,
   "id": "5155cc62-cbce-41b5-a776-8b1fc8815248",
   "metadata": {},
   "outputs": [
    {
     "name": "stdin",
     "output_type": "stream",
     "text": [
      " TeXt\n"
     ]
    },
    {
     "name": "stdout",
     "output_type": "stream",
     "text": [
      "TeXt\n"
     ]
    }
   ],
   "source": [
    "#Task 4\n",
    "#Не очень понятное условие. Как его понял я:\n",
    "#Если длина строки >= 4, то в случае, если первые три символа заглавные, то мы выводим строку целиком из заглавных. Если нет, то выводим исходную.\n",
    "#Если длина строки < 4, то выводим исходную.\n",
    "\n",
    "a = input()\n",
    "a_list = list(a)\n",
    "if len(a) <= 4:\n",
    "    print(a)\n",
    "elif (not a_list[0].isupper()) and (not a_list[1].isupper()) and (not a_list[2].isupper()):\n",
    "            print(a)\n",
    "else:\n",
    "    print(a.upper())"
   ]
  },
  {
   "cell_type": "code",
   "execution_count": null,
   "id": "221606ed-acdf-421e-ae7a-1cf5ebb1283d",
   "metadata": {},
   "outputs": [],
   "source": []
  }
 ],
 "metadata": {
  "kernelspec": {
   "display_name": "Python 3 (ipykernel)",
   "language": "python",
   "name": "python3"
  },
  "language_info": {
   "codemirror_mode": {
    "name": "ipython",
    "version": 3
   },
   "file_extension": ".py",
   "mimetype": "text/x-python",
   "name": "python",
   "nbconvert_exporter": "python",
   "pygments_lexer": "ipython3",
   "version": "3.12.4"
  }
 },
 "nbformat": 4,
 "nbformat_minor": 5
}
